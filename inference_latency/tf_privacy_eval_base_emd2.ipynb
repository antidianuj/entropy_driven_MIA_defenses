{
 "cells": [
  {
   "attachments": {},
   "cell_type": "markdown",
   "metadata": {},
   "source": [
    "https://www.tensorflow.org/responsible_ai/privacy/tutorials/privacy_report\n",
    "\n",
    "https://github.com/tensorflow/privacy/tree/master/tensorflow_privacy/privacy/privacy_tests/membership_inference_attack"
   ]
  },
  {
   "attachments": {},
   "cell_type": "markdown",
   "metadata": {},
   "source": [
    "Perform first category EMD during inference phase"
   ]
  },
  {
   "attachments": {},
   "cell_type": "markdown",
   "metadata": {},
   "source": [
    "I want a generalized apporach where I can use TF reports on pytorch models"
   ]
  },
  {
   "cell_type": "code",
   "execution_count": 8,
   "metadata": {},
   "outputs": [],
   "source": [
    "import torch\n",
    "import torch.nn as nn\n",
    "import torch.optim as optim\n",
    "from torchvision import datasets, transforms\n",
    "from torch.utils.data import DataLoader\n",
    "from tensorflow import keras\n",
    "import tensorflow as tf\n",
    "\n",
    "# Define the neural network architecture\n",
    "class MNISTClassifier(nn.Module):\n",
    "    def __init__(self):\n",
    "        super(MNISTClassifier, self).__init__()\n",
    "        self.reshape=nn.Flatten()\n",
    "        self.fc1 = nn.Linear(28*28, 128)\n",
    "        self.fc2 = nn.Linear(128, 64)\n",
    "        self.fc3 = nn.Linear(64, 10)\n",
    "        self.nonlinear = nn.Softmax(dim=1)\n",
    "\n",
    "    def forward(self, x):\n",
    "        x = self.reshape(x)\n",
    "        # x = torch.flatten(x, start_dim=1)\n",
    "        # x = x.reshape(x.size(0), -1)\n",
    "        x = torch.relu(self.fc1(x))\n",
    "        x = torch.relu(self.fc2(x))\n",
    "        x = self.fc3(x)\n",
    "        x= self.nonlinear(x)\n",
    "        # x = torch.softmax(x, dim=1)\n",
    "        return x\n",
    "\n",
    "# Load the MNIST dataset\n",
    "transform = transforms.Compose([transforms.ToTensor(), transforms.Normalize((0.1307,), (0.3081,))])\n",
    "\n",
    "train_data = datasets.MNIST('data', train=True, download=True, transform=transform)\n",
    "test_data = datasets.MNIST('data', train=False, transform=transform)\n",
    "\n",
    "train_loader = DataLoader(train_data, batch_size=64*20, shuffle=True)\n",
    "test_loader = DataLoader(test_data, batch_size=64*20, shuffle=False)\n",
    "\n",
    "# Train the model\n",
    "device = torch.device(\"cuda\" if torch.cuda.is_available() else \"cpu\")\n",
    "model = MNISTClassifier().to(device)\n",
    "criterion = nn.CrossEntropyLoss()\n",
    "optimizer = optim.Adam(model.parameters(), lr=0.001)\n",
    "\n",
    "epochs = 1\n",
    "for epoch in range(epochs):\n",
    "    for images, labels in train_loader:\n",
    "        images, labels = images.to(device), labels.to(device)\n",
    "        \n",
    "        optimizer.zero_grad()\n",
    "        output = model(images)\n",
    "        loss = criterion(output, labels)\n",
    "        loss.backward()\n",
    "        optimizer.step()\n"
   ]
  },
  {
   "cell_type": "code",
   "execution_count": 9,
   "metadata": {},
   "outputs": [
    {
     "data": {
      "text/plain": [
       "MNISTClassifier(\n",
       "  (reshape): Flatten(start_dim=1, end_dim=-1)\n",
       "  (fc1): Linear(in_features=784, out_features=128, bias=True)\n",
       "  (fc2): Linear(in_features=128, out_features=64, bias=True)\n",
       "  (fc3): Linear(in_features=64, out_features=10, bias=True)\n",
       "  (nonlinear): Softmax(dim=1)\n",
       ")"
      ]
     },
     "execution_count": 9,
     "metadata": {},
     "output_type": "execute_result"
    }
   ],
   "source": [
    "model.to('cpu')"
   ]
  },
  {
   "cell_type": "code",
   "execution_count": 10,
   "metadata": {},
   "outputs": [],
   "source": [
    "import numpy as np\n",
    "from sklearn.metrics import accuracy_score\n",
    "from scipy.interpolate import CubicSpline\n",
    "import numpy as np\n",
    "\n",
    "\n",
    "\n",
    "# Define the Koopman observables (it can be monomials up to degree n or in my case non-linear sines)\n",
    "def koopman_observables(x, n):\n",
    "    observables = [(np.exp(-0.5*(x-i)**2))for i in range(n + 1)]\n",
    "    return np.vstack(observables)\n",
    "\n",
    "\n",
    "def approxim(output):\n",
    "        #spline interpolate output via scipy\n",
    "    outputs = output.detach().numpy()\n",
    "\n",
    "    Out=[]\n",
    "\n",
    "    for i in range(len(outputs)):\n",
    "\n",
    "        #flatten output\n",
    "        sub_out = outputs[i]\n",
    "\n",
    "        #attach time like input\n",
    "        time = np.linspace(0, len(sub_out ), sub_out .shape[0])\n",
    "        \n",
    "        #inerpolator model\n",
    "        cubic_spliner = CubicSpline(time, sub_out)\n",
    "\n",
    "        #new time with more samples\n",
    "        sampling_ratio = 3\n",
    "        interpolated_time = np.linspace(0, len(sub_out), sub_out .shape[0]*sampling_ratio)\n",
    "\n",
    "\n",
    "        #interpolate\n",
    "        outputs_interpolated = cubic_spliner(interpolated_time)\n",
    "\n",
    "        #observable degree of approx over basis defined in Koopman observables\n",
    "        observables_degree = 10\n",
    "\n",
    "        #index of approximant\n",
    "        idx=1\n",
    "\n",
    "        # Apply the observables to the dataset\n",
    "        X = koopman_observables(interpolated_time, observables_degree)\n",
    "        Y = koopman_observables(outputs_interpolated, observables_degree)\n",
    "\n",
    "        # Perform Dynamic Mode Decomposition (DMD)\n",
    "        U, S, Vh = np.linalg.svd(X, full_matrices=False)\n",
    "        Vh = Vh.conj().T\n",
    "\n",
    "        # Rank truncation\n",
    "        approximation_rank = observables_degree + 1\n",
    "        U_r = U[:, :approximation_rank]\n",
    "        S_r = np.diag(S[:approximation_rank])\n",
    "        Vh_r = Vh[:, :approximation_rank]\n",
    "\n",
    "        # Compute the approximate linear Koopman operator A\n",
    "        A = np.linalg.multi_dot([Y, Vh_r, np.linalg.inv(S_r), U_r.T])\n",
    "\n",
    "        # Test the approximation\n",
    "        test_observables = koopman_observables(interpolated_time, observables_degree)\n",
    "        test_output_observables = np.dot(A, test_observables)\n",
    "        approx_interp_output = test_output_observables[idx, :]\n",
    "\n",
    "        #downsample\n",
    "        sub_out  = approx_interp_output[::sampling_ratio]\n",
    "\n",
    "        #append to list\n",
    "        Out.append(sub_out)\n",
    "\n",
    "    #convert to numpy\n",
    "    outputs = np.array(Out)\n",
    "\n",
    "    #convert to torch tensor\n",
    "    outputs = torch.from_numpy(outputs)\n",
    "    return outputs"
   ]
  },
  {
   "cell_type": "code",
   "execution_count": 11,
   "metadata": {},
   "outputs": [
    {
     "name": "stdout",
     "output_type": "stream",
     "text": [
      "The model has 109,386 trainable parameters\n"
     ]
    }
   ],
   "source": [
    "# count the number of trainable parameters\n",
    "def count_parameters(model):\n",
    "    return sum(p.numel() for p in model.parameters() if p.requires_grad)\n",
    "\n",
    "print(f'The model has {count_parameters(model):,} trainable parameters')\n"
   ]
  },
  {
   "cell_type": "code",
   "execution_count": 12,
   "metadata": {},
   "outputs": [],
   "source": [
    "target_model = model.to('cpu')"
   ]
  },
  {
   "cell_type": "code",
   "execution_count": 13,
   "metadata": {},
   "outputs": [
    {
     "data": {
      "text/plain": [
       "MNISTClassifier(\n",
       "  (reshape): Flatten(start_dim=1, end_dim=-1)\n",
       "  (fc1): Linear(in_features=784, out_features=128, bias=True)\n",
       "  (fc2): Linear(in_features=128, out_features=64, bias=True)\n",
       "  (fc3): Linear(in_features=64, out_features=10, bias=True)\n",
       "  (nonlinear): Softmax(dim=1)\n",
       ")"
      ]
     },
     "execution_count": 13,
     "metadata": {},
     "output_type": "execute_result"
    }
   ],
   "source": [
    "target_model.eval()"
   ]
  },
  {
   "cell_type": "code",
   "execution_count": 14,
   "metadata": {},
   "outputs": [
    {
     "name": "stdout",
     "output_type": "stream",
     "text": [
      "Inference latency: 3440.04654884338378906250 micro-seconds\n"
     ]
    }
   ],
   "source": [
    "import time\n",
    "input_tensor=torch.randn((1, 1, 28, 28))\n",
    "\n",
    "model.eval()\n",
    "# Perform a warm-up run to avoid potential overhead caused by initial device setup\n",
    "with torch.no_grad():\n",
    "    _ = approxim(target_model(input_tensor))\n",
    "\n",
    "\n",
    "\n",
    "num_iterations = 1000  # Choose a suitable number of iterations to average over\n",
    "\n",
    "start_time = time.time()\n",
    "with torch.no_grad():\n",
    "    for _ in range(num_iterations):\n",
    "        _ = approxim(target_model(input_tensor))\n",
    "end_time = time.time()\n",
    "\n",
    "inference_latency = (end_time - start_time) / num_iterations\n",
    "#convert to microseconds\n",
    "inference_latency = inference_latency * 1000000\n",
    "print(f'Inference latency: {inference_latency:.20f} micro-seconds')\n",
    "\n"
   ]
  }
 ],
 "metadata": {
  "kernelspec": {
   "display_name": "subbase",
   "language": "python",
   "name": "python3"
  },
  "language_info": {
   "codemirror_mode": {
    "name": "ipython",
    "version": 3
   },
   "file_extension": ".py",
   "mimetype": "text/x-python",
   "name": "python",
   "nbconvert_exporter": "python",
   "pygments_lexer": "ipython3",
   "version": "3.10.0"
  },
  "orig_nbformat": 4
 },
 "nbformat": 4,
 "nbformat_minor": 2
}
