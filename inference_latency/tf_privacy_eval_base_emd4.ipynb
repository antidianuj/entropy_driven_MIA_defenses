{
 "cells": [
  {
   "attachments": {},
   "cell_type": "markdown",
   "metadata": {},
   "source": [
    "https://www.tensorflow.org/responsible_ai/privacy/tutorials/privacy_report\n",
    "\n",
    "https://github.com/tensorflow/privacy/tree/master/tensorflow_privacy/privacy/privacy_tests/membership_inference_attack"
   ]
  },
  {
   "attachments": {},
   "cell_type": "markdown",
   "metadata": {},
   "source": [
    "Perform first category EMD during inference phase"
   ]
  },
  {
   "attachments": {},
   "cell_type": "markdown",
   "metadata": {},
   "source": [
    "I want a generalized apporach where I can use TF reports on pytorch models"
   ]
  },
  {
   "cell_type": "code",
   "execution_count": 1,
   "metadata": {},
   "outputs": [
    {
     "name": "stderr",
     "output_type": "stream",
     "text": [
      "2023-04-19 08:24:53.623649: I tensorflow/core/platform/cpu_feature_guard.cc:182] This TensorFlow binary is optimized to use available CPU instructions in performance-critical operations.\n",
      "To enable the following instructions: AVX2 FMA, in other operations, rebuild TensorFlow with the appropriate compiler flags.\n",
      "2023-04-19 08:24:54.403399: W tensorflow/compiler/tf2tensorrt/utils/py_utils.cc:38] TF-TRT Warning: Could not find TensorRT\n"
     ]
    }
   ],
   "source": [
    "import torch\n",
    "import torch.nn as nn\n",
    "import torch.optim as optim\n",
    "from torchvision import datasets, transforms\n",
    "from torch.utils.data import DataLoader\n",
    "from tensorflow import keras\n",
    "import tensorflow as tf\n",
    "\n",
    "# Define the neural network architecture\n",
    "class MNISTClassifier(nn.Module):\n",
    "    def __init__(self):\n",
    "        super(MNISTClassifier, self).__init__()\n",
    "        self.reshape=nn.Flatten()\n",
    "        self.fc1 = nn.Linear(28*28, 128)\n",
    "        self.fc2 = nn.Linear(128, 64)\n",
    "        self.fc3 = nn.Linear(64, 10)\n",
    "        self.nonlinear = nn.Softmax(dim=1)\n",
    "\n",
    "    def forward(self, x):\n",
    "        x = self.reshape(x)\n",
    "        # x = torch.flatten(x, start_dim=1)\n",
    "        # x = x.reshape(x.size(0), -1)\n",
    "        x = torch.relu(self.fc1(x))\n",
    "        x = torch.relu(self.fc2(x))\n",
    "        x = self.fc3(x)\n",
    "        x= self.nonlinear(x)\n",
    "        # x = torch.softmax(x, dim=1)\n",
    "        return x\n",
    "\n",
    "# Load the MNIST dataset\n",
    "transform = transforms.Compose([transforms.ToTensor(), transforms.Normalize((0.1307,), (0.3081,))])\n",
    "\n",
    "train_data = datasets.MNIST('data', train=True, download=True, transform=transform)\n",
    "test_data = datasets.MNIST('data', train=False, transform=transform)\n",
    "\n",
    "train_loader = DataLoader(train_data, batch_size=64*20, shuffle=True)\n",
    "test_loader = DataLoader(test_data, batch_size=64*20, shuffle=False)\n",
    "\n",
    "# Train the model\n",
    "device = torch.device(\"cuda\" if torch.cuda.is_available() else \"cpu\")\n",
    "model = MNISTClassifier().to(device)\n",
    "criterion = nn.CrossEntropyLoss()\n",
    "optimizer = optim.Adam(model.parameters(), lr=0.001)\n",
    "\n",
    "epochs = 1\n",
    "for epoch in range(epochs):\n",
    "    for images, labels in train_loader:\n",
    "        images, labels = images.to(device), labels.to(device)\n",
    "        \n",
    "        optimizer.zero_grad()\n",
    "        output = model(images)\n",
    "        loss = criterion(output, labels)\n",
    "        loss.backward()\n",
    "        optimizer.step()\n"
   ]
  },
  {
   "cell_type": "code",
   "execution_count": 2,
   "metadata": {},
   "outputs": [
    {
     "data": {
      "text/plain": [
       "MNISTClassifier(\n",
       "  (reshape): Flatten(start_dim=1, end_dim=-1)\n",
       "  (fc1): Linear(in_features=784, out_features=128, bias=True)\n",
       "  (fc2): Linear(in_features=128, out_features=64, bias=True)\n",
       "  (fc3): Linear(in_features=64, out_features=10, bias=True)\n",
       "  (nonlinear): Softmax(dim=1)\n",
       ")"
      ]
     },
     "execution_count": 2,
     "metadata": {},
     "output_type": "execute_result"
    }
   ],
   "source": [
    "model.to('cpu')"
   ]
  },
  {
   "cell_type": "code",
   "execution_count": 3,
   "metadata": {},
   "outputs": [],
   "source": [
    "import numpy as np\n",
    "from sklearn.metrics import accuracy_score\n",
    "from scipy.interpolate import CubicSpline\n",
    "import numpy as np\n",
    "from PyEMD import EMD\n",
    "from sklearn.kernel_approximation import RBFSampler\n",
    "\n",
    "\n",
    "# Define the Koopman observables (it can be monomials up to degree n or in my case non-linear sines)\n",
    "def koopman_observables(x, n):\n",
    "    observables = [np.sin(x**i) for i in range(n + 1)]\n",
    "    return np.vstack(observables)\n",
    "\n",
    "\n",
    "def approxim(output):\n",
    "        #spline interpolate output via scipy\n",
    "    outputs = output.detach().numpy()\n",
    "\n",
    "    Out=[]\n",
    "\n",
    "    for i in range(len(outputs)):\n",
    "\n",
    "        #flatten output\n",
    "        sub_out = outputs[i]\n",
    "\n",
    "        #attach time like input\n",
    "        time = np.linspace(0, len(sub_out ), sub_out .shape[0])\n",
    "        \n",
    "        #inerpolator model\n",
    "        cubic_spliner = CubicSpline(time, sub_out )\n",
    "\n",
    "        #new time with more samples\n",
    "        sampling_ratio = 3\n",
    "        idx=0\n",
    "        interpolated_time = np.linspace(0, len(sub_out ), sub_out .shape[0]*sampling_ratio)\n",
    "\n",
    "        #interpolate\n",
    "        outputs_interpolated = cubic_spliner(interpolated_time)\n",
    "\n",
    "        # Define the feature map used in EDMD\n",
    "        feature_map = RBFSampler(gamma=0.6, n_components=3)\n",
    "\n",
    "        # Apply the feature map to the data\n",
    "        phi_x = feature_map.fit_transform(outputs_interpolated.reshape(-1, 1))\n",
    "\n",
    "        # Compute the Koopman matrix using EDMD\n",
    "        K = phi_x[:-1, :].T @ phi_x[1:, :] @ np.linalg.pinv(phi_x[:-1, :].T @ phi_x[:-1, :])\n",
    "\n",
    "        # Compute the Koopman approximation of the system dynamics\n",
    "        koopman_x = K @ phi_x.T\n",
    "\n",
    "        approx_interp_output = koopman_x.T[:,0]\n",
    "\n",
    "        #downsample\n",
    "        sub_out  = approx_interp_output[::sampling_ratio]\n",
    "\n",
    "        #append to list\n",
    "        Out.append(sub_out)\n",
    "\n",
    "    #convert to numpy\n",
    "    outputs = np.array(Out)\n",
    "\n",
    "    #convert to torch tensor\n",
    "    outputs = torch.from_numpy(outputs)\n",
    "    return outputs"
   ]
  },
  {
   "cell_type": "code",
   "execution_count": 4,
   "metadata": {},
   "outputs": [
    {
     "name": "stdout",
     "output_type": "stream",
     "text": [
      "The model has 109,386 trainable parameters\n"
     ]
    }
   ],
   "source": [
    "# count the number of trainable parameters\n",
    "def count_parameters(model):\n",
    "    return sum(p.numel() for p in model.parameters() if p.requires_grad)\n",
    "\n",
    "print(f'The model has {count_parameters(model):,} trainable parameters')\n"
   ]
  },
  {
   "cell_type": "code",
   "execution_count": 5,
   "metadata": {},
   "outputs": [],
   "source": [
    "target_model = model.to('cpu')"
   ]
  },
  {
   "cell_type": "code",
   "execution_count": 6,
   "metadata": {},
   "outputs": [
    {
     "data": {
      "text/plain": [
       "MNISTClassifier(\n",
       "  (reshape): Flatten(start_dim=1, end_dim=-1)\n",
       "  (fc1): Linear(in_features=784, out_features=128, bias=True)\n",
       "  (fc2): Linear(in_features=128, out_features=64, bias=True)\n",
       "  (fc3): Linear(in_features=64, out_features=10, bias=True)\n",
       "  (nonlinear): Softmax(dim=1)\n",
       ")"
      ]
     },
     "execution_count": 6,
     "metadata": {},
     "output_type": "execute_result"
    }
   ],
   "source": [
    "target_model.eval()"
   ]
  },
  {
   "cell_type": "code",
   "execution_count": 7,
   "metadata": {},
   "outputs": [
    {
     "name": "stdout",
     "output_type": "stream",
     "text": [
      "Inference latency: 888.13185691833496093750 micro-seconds\n"
     ]
    }
   ],
   "source": [
    "import time\n",
    "input_tensor=torch.randn((1, 1, 28, 28))\n",
    "\n",
    "model.eval()\n",
    "# Perform a warm-up run to avoid potential overhead caused by initial device setup\n",
    "with torch.no_grad():\n",
    "    _ = approxim(target_model(input_tensor))\n",
    "\n",
    "\n",
    "\n",
    "num_iterations = 1000  # Choose a suitable number of iterations to average over\n",
    "\n",
    "start_time = time.time()\n",
    "with torch.no_grad():\n",
    "    for _ in range(num_iterations):\n",
    "        _ = approxim(target_model(input_tensor))\n",
    "end_time = time.time()\n",
    "\n",
    "inference_latency = (end_time - start_time) / num_iterations\n",
    "#convert to microseconds\n",
    "inference_latency = inference_latency * 1000000\n",
    "print(f'Inference latency: {inference_latency:.20f} micro-seconds')\n",
    "\n"
   ]
  }
 ],
 "metadata": {
  "kernelspec": {
   "display_name": "subbase",
   "language": "python",
   "name": "python3"
  },
  "language_info": {
   "codemirror_mode": {
    "name": "ipython",
    "version": 3
   },
   "file_extension": ".py",
   "mimetype": "text/x-python",
   "name": "python",
   "nbconvert_exporter": "python",
   "pygments_lexer": "ipython3",
   "version": "3.10.0"
  },
  "orig_nbformat": 4
 },
 "nbformat": 4,
 "nbformat_minor": 2
}
