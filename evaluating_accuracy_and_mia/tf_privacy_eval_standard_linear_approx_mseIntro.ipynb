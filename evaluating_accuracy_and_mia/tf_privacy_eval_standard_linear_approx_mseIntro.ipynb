{
 "cells": [
  {
   "attachments": {},
   "cell_type": "markdown",
   "metadata": {},
   "source": [
    "https://www.tensorflow.org/responsible_ai/privacy/tutorials/privacy_report\n",
    "\n",
    "https://github.com/tensorflow/privacy/tree/master/tensorflow_privacy/privacy/privacy_tests/membership_inference_attack"
   ]
  },
  {
   "attachments": {},
   "cell_type": "markdown",
   "metadata": {},
   "source": [
    "Here I basically substitute the final sigmoid layer with a linear operator (trainabale) and then retrain the model with previous parameters untraibale.\n",
    "But now I set the loss as MSE Loss, instead of categorical crossentropy"
   ]
  },
  {
   "attachments": {},
   "cell_type": "markdown",
   "metadata": {},
   "source": [
    "I want a generalized apporach where I can use TF reports on pytorch models"
   ]
  },
  {
   "cell_type": "code",
   "execution_count": 1,
   "metadata": {},
   "outputs": [
    {
     "name": "stderr",
     "output_type": "stream",
     "text": [
      "2023-04-18 18:15:53.643300: I tensorflow/core/platform/cpu_feature_guard.cc:182] This TensorFlow binary is optimized to use available CPU instructions in performance-critical operations.\n",
      "To enable the following instructions: AVX2 FMA, in other operations, rebuild TensorFlow with the appropriate compiler flags.\n",
      "2023-04-18 18:15:54.448083: W tensorflow/compiler/tf2tensorrt/utils/py_utils.cc:38] TF-TRT Warning: Could not find TensorRT\n"
     ]
    }
   ],
   "source": [
    "import torch\n",
    "import torch.nn as nn\n",
    "import torch.optim as optim\n",
    "from torchvision import datasets, transforms\n",
    "from torch.utils.data import DataLoader\n",
    "from tensorflow import keras\n",
    "import tensorflow as tf\n",
    "\n",
    "# Define the neural network architecture\n",
    "class MNISTClassifier(nn.Module):\n",
    "    def __init__(self):\n",
    "        super(MNISTClassifier, self).__init__()\n",
    "        self.reshape=nn.Flatten()\n",
    "        self.fc1 = nn.Linear(28*28, 128)\n",
    "        self.fc2 = nn.Linear(128, 64)\n",
    "        self.fc3 = nn.Linear(64, 10)\n",
    "        self.nonlinear = nn.Softmax(dim=1)\n",
    "\n",
    "    def forward(self, x):\n",
    "        x = self.reshape(x)\n",
    "        # x = torch.flatten(x, start_dim=1)\n",
    "        # x = x.reshape(x.size(0), -1)\n",
    "        x = torch.relu(self.fc1(x))\n",
    "        x = torch.relu(self.fc2(x))\n",
    "        x = self.fc3(x)\n",
    "        x= self.nonlinear(x)\n",
    "        # x = torch.softmax(x, dim=1)\n",
    "        return x\n",
    "\n",
    "# Load the MNIST dataset\n",
    "transform = transforms.Compose([transforms.ToTensor(), transforms.Normalize((0.1307,), (0.3081,))])\n",
    "\n",
    "train_data = datasets.MNIST('data', train=True, download=True, transform=transform)\n",
    "test_data = datasets.MNIST('data', train=False, transform=transform)\n",
    "\n",
    "train_loader = DataLoader(train_data, batch_size=64*20, shuffle=True)\n",
    "test_loader = DataLoader(test_data, batch_size=64*20, shuffle=False)\n",
    "\n",
    "# Train the model\n",
    "device = torch.device(\"cuda\" if torch.cuda.is_available() else \"cpu\")\n",
    "model = MNISTClassifier().to(device)\n",
    "criterion = nn.CrossEntropyLoss()\n",
    "optimizer = optim.Adam(model.parameters(), lr=0.001)\n",
    "\n",
    "epochs = 20\n",
    "for epoch in range(epochs):\n",
    "    for images, labels in train_loader:\n",
    "        images, labels = images.to(device), labels.to(device)\n",
    "        \n",
    "        optimizer.zero_grad()\n",
    "        output = model(images)\n",
    "        loss = criterion(output, labels)\n",
    "        loss.backward()\n",
    "        optimizer.step()\n"
   ]
  },
  {
   "cell_type": "code",
   "execution_count": 2,
   "metadata": {},
   "outputs": [
    {
     "data": {
      "text/plain": [
       "MNISTClassifier(\n",
       "  (reshape): Flatten(start_dim=1, end_dim=-1)\n",
       "  (fc1): Linear(in_features=784, out_features=128, bias=True)\n",
       "  (fc2): Linear(in_features=128, out_features=64, bias=True)\n",
       "  (fc3): Linear(in_features=64, out_features=10, bias=True)\n",
       "  (nonlinear): Softmax(dim=1)\n",
       ")"
      ]
     },
     "execution_count": 2,
     "metadata": {},
     "output_type": "execute_result"
    }
   ],
   "source": [
    "model.to('cpu')"
   ]
  },
  {
   "cell_type": "code",
   "execution_count": 3,
   "metadata": {},
   "outputs": [
    {
     "name": "stdout",
     "output_type": "stream",
     "text": [
      "Test Accuracy before Linearization is:  0.8776\n"
     ]
    }
   ],
   "source": [
    "from sklearn.metrics import accuracy_score\n",
    "import numpy as np\n",
    "in_preds = []\n",
    "in_label = []\n",
    "with torch.no_grad():\n",
    "    for data in test_loader:\n",
    "        inputs, labels = data\n",
    "        # inputs = inputs.to(device)\n",
    "        outputs = model(inputs)\n",
    "        #load outputs to cpu\n",
    "        outputs = outputs.cpu()\n",
    "        in_preds.append(outputs)\n",
    "        in_label.append(labels)\n",
    "    in_preds = torch.cat(in_preds)\n",
    "    in_label = torch.cat(in_label)\n",
    "print(\n",
    "    \"Test Accuracy before Linearization is: \",\n",
    "    accuracy_score(np.array(torch.argmax(in_preds, axis=1)), np.array(in_label)),\n",
    ")"
   ]
  },
  {
   "cell_type": "code",
   "execution_count": 4,
   "metadata": {},
   "outputs": [
    {
     "name": "stdout",
     "output_type": "stream",
     "text": [
      "The model has 109,386 trainable parameters\n"
     ]
    }
   ],
   "source": [
    "# count the number of trainable parameters\n",
    "def count_parameters(model):\n",
    "    return sum(p.numel() for p in model.parameters() if p.requires_grad)\n",
    "\n",
    "print(f'The model has {count_parameters(model):,} trainable parameters')\n"
   ]
  },
  {
   "cell_type": "code",
   "execution_count": 5,
   "metadata": {},
   "outputs": [],
   "source": [
    "\n",
    "# Modify the trained model by replacing the final softmax layer with a linear layer\n",
    "model.nonlinear= nn.Linear(10, 10)\n",
    "\n",
    "# Make all layers untrainable except the last linear layer\n",
    "for param in model.parameters():\n",
    "    param.requires_grad = False\n",
    "\n",
    "# Set the requires_grad attribute of the last linear layer to True\n",
    "for param in model.nonlinear.parameters():\n",
    "    param.requires_grad = True\n",
    "\n",
    "\n",
    "#load the model to device\n",
    "model = model.to(device)\n",
    "\n",
    "# Train the modified model\n",
    "optimizer = optim.Adam(filter(lambda p: p.requires_grad, model.parameters()), lr=0.001)\n",
    "#define criterion to be mse\n",
    "criterion = nn.MSELoss()\n",
    "\n",
    "\n",
    "for epoch in range(epochs):\n",
    "    for images, labels in train_loader:\n",
    "        images, labels = images.to(device), labels.to(device)\n",
    "        #one hot encode the labels\n",
    "        labels=nn.functional.one_hot(labels,10).to(torch.float32)\n",
    "        optimizer.zero_grad()\n",
    "        output = model(images)\n",
    "        #normalize the output\n",
    "        # output = output/torch.sum(output, dim=1, keepdim=True)\n",
    "        loss = criterion(output, labels)\n",
    "        loss.backward()\n",
    "        optimizer.step()"
   ]
  },
  {
   "cell_type": "code",
   "execution_count": 6,
   "metadata": {},
   "outputs": [
    {
     "name": "stdout",
     "output_type": "stream",
     "text": [
      "Test Accuracy after Linearization is:  0.8141\n"
     ]
    }
   ],
   "source": [
    "from sklearn.metrics import accuracy_score\n",
    "import numpy as np\n",
    "in_preds = []\n",
    "in_label = []\n",
    "with torch.no_grad():\n",
    "    for data in test_loader:\n",
    "        inputs, labels = data\n",
    "        inputs = inputs.to(device)\n",
    "        outputs = model(inputs)\n",
    "        #load outputs to cpu\n",
    "        outputs = outputs.cpu()\n",
    "        in_preds.append(outputs)\n",
    "        in_label.append(labels)\n",
    "    in_preds = torch.cat(in_preds)\n",
    "    in_label = torch.cat(in_label)\n",
    "print(\n",
    "    \"Test Accuracy after Linearization is: \",\n",
    "    accuracy_score(np.array(torch.argmax(in_preds, axis=1)), np.array(in_label)),\n",
    ")"
   ]
  },
  {
   "cell_type": "code",
   "execution_count": 7,
   "metadata": {},
   "outputs": [
    {
     "name": "stdout",
     "output_type": "stream",
     "text": [
      "The model has 110 trainable parameters\n"
     ]
    }
   ],
   "source": [
    "# count the number of trainable parameters\n",
    "def count_parameters(model):\n",
    "    return sum(p.numel() for p in model.parameters() if p.requires_grad)\n",
    "\n",
    "print(f'The model has {count_parameters(model):,} trainable parameters')\n"
   ]
  },
  {
   "cell_type": "code",
   "execution_count": 8,
   "metadata": {},
   "outputs": [],
   "source": [
    "target_model = model.to('cpu')"
   ]
  },
  {
   "cell_type": "code",
   "execution_count": 9,
   "metadata": {},
   "outputs": [
    {
     "data": {
      "text/plain": [
       "MNISTClassifier(\n",
       "  (reshape): Flatten(start_dim=1, end_dim=-1)\n",
       "  (fc1): Linear(in_features=784, out_features=128, bias=True)\n",
       "  (fc2): Linear(in_features=128, out_features=64, bias=True)\n",
       "  (fc3): Linear(in_features=64, out_features=10, bias=True)\n",
       "  (nonlinear): Linear(in_features=10, out_features=10, bias=True)\n",
       ")"
      ]
     },
     "execution_count": 9,
     "metadata": {},
     "output_type": "execute_result"
    }
   ],
   "source": [
    "target_model.eval()"
   ]
  },
  {
   "cell_type": "code",
   "execution_count": 10,
   "metadata": {},
   "outputs": [
    {
     "name": "stdout",
     "output_type": "stream",
     "text": [
      "Compute losses...\n"
     ]
    },
    {
     "name": "stderr",
     "output_type": "stream",
     "text": [
      "2023-04-18 18:22:47.188529: I tensorflow/compiler/xla/stream_executor/cuda/cuda_gpu_executor.cc:982] could not open file to read NUMA node: /sys/bus/pci/devices/0000:01:00.0/numa_node\n",
      "Your kernel may have been built without NUMA support.\n",
      "2023-04-18 18:22:47.189034: W tensorflow/core/common_runtime/gpu/gpu_device.cc:1956] Cannot dlopen some GPU libraries. Please make sure the missing libraries mentioned above are installed properly if you would like to use GPU. Follow the guide at https://www.tensorflow.org/install/gpu for how to download and setup the required libraries for your platform.\n",
      "Skipping registering GPU devices...\n"
     ]
    }
   ],
   "source": [
    "# Load the MNIST dataset\n",
    "transform = transforms.Compose([transforms.ToTensor(), transforms.Normalize((0.1307,), (0.3081,))])\n",
    "\n",
    "train_data = datasets.MNIST('data', train=True, download=True, transform=transform)\n",
    "test_data = datasets.MNIST('data', train=False, transform=transform)\n",
    "\n",
    "train_loader = DataLoader(train_data, batch_size=1, shuffle=True)\n",
    "test_loader = DataLoader(test_data, batch_size=1, shuffle=False)\n",
    "\n",
    "\n",
    "#get data from train_loader\n",
    "X=[]\n",
    "y=[]\n",
    "\n",
    "for data in train_loader:\n",
    "    inputs, labels = data\n",
    "    X.append(inputs)\n",
    "    y.append(labels)\n",
    "\n",
    "X = torch.cat(X)\n",
    "y = torch.cat(y)\n",
    "X=X.numpy()\n",
    "#one hot encode the labels\n",
    "y=nn.functional.one_hot(y,10).to(torch.float32)\n",
    "y=y.numpy()\n",
    "\n",
    "#radomly sample 1000 points from the dataset\n",
    "idx = np.random.choice(X.shape[0], 1000, replace=False)\n",
    "X=X[idx]\n",
    "y=y[idx]\n",
    "\n",
    "\n",
    "logits_train = []\n",
    "logits_test = []\n",
    "labels_train = []\n",
    "labels_test = []\n",
    "\n",
    "for data in train_loader:\n",
    "    inputs, labels = data\n",
    "    logits = target_model(inputs)\n",
    "    logits_train.append(logits)\n",
    "    labels_train.append(labels)\n",
    "\n",
    "for data in test_loader:\n",
    "    inputs, labels = data\n",
    "    logits = target_model(inputs)\n",
    "    logits_test.append(logits)\n",
    "    labels_test.append(labels)\n",
    "\n",
    "logits_train = torch.cat(logits_train)\n",
    "logits_test = torch.cat(logits_test)\n",
    "labels_train = torch.cat(labels_train)\n",
    "labels_test = torch.cat(labels_test)\n",
    "\n",
    "#Apply softmax to get probabilities from logits\n",
    "prob_train = torch.softmax(logits_train, dim=1)\n",
    "prob_test = torch.softmax(logits_test, dim=1)\n",
    "\n",
    "\n",
    "#convert to numpy\n",
    "prob_train = prob_train.detach().numpy()\n",
    "prob_test = prob_test.detach().numpy()\n",
    "labels_train = labels_train.detach().numpy()\n",
    "labels_test = labels_test.detach().numpy()\n",
    "logits_train = logits_train.detach().numpy()\n",
    "logits_test = logits_test.detach().numpy()\n",
    "\n",
    "y_train = keras.utils.to_categorical(labels_train, 10)\n",
    "y_test = keras.utils.to_categorical(labels_test, 10)\n",
    "\n",
    "\n",
    "print('Compute losses...')\n",
    "cce = tf.keras.backend.categorical_crossentropy\n",
    "constant = tf.keras.backend.constant\n",
    "\n",
    "loss_train = cce(constant(y_train), constant(prob_train), from_logits=False).numpy()\n",
    "loss_test = cce(constant(y_test), constant(prob_test), from_logits=False).numpy()\n",
    "\n",
    "\n",
    "#save\n",
    "np.save('loss_train.npy', loss_train)\n",
    "np.save('loss_test.npy', loss_test)\n",
    "np.save('prob_train.npy', prob_train)\n",
    "np.save('prob_test.npy', prob_test)\n",
    "np.save('labels_train.npy', labels_train)\n",
    "np.save('labels_test.npy', labels_test)\n",
    "np.save('logits_train.npy', logits_train)\n",
    "np.save('logits_test.npy', logits_test)\n",
    "\n",
    "\n",
    "\n"
   ]
  },
  {
   "cell_type": "code",
   "execution_count": 11,
   "metadata": {},
   "outputs": [],
   "source": [
    "import numpy as np\n",
    "from typing import Tuple\n",
    "from scipy import special\n",
    "from sklearn import metrics\n",
    "\n",
    "import tensorflow as tf\n",
    "\n",
    "# Set verbosity.\n",
    "tf.compat.v1.logging.set_verbosity(tf.compat.v1.logging.ERROR)\n",
    "from sklearn.exceptions import ConvergenceWarning\n",
    "\n",
    "import warnings\n",
    "warnings.simplefilter(action=\"ignore\", category=ConvergenceWarning)\n",
    "warnings.simplefilter(action=\"ignore\", category=FutureWarning)\n",
    "\n",
    "import tensorflow_privacy\n",
    "\n",
    "from tensorflow_privacy.privacy.privacy_tests.membership_inference_attack import membership_inference_attack as mia\n",
    "from tensorflow_privacy.privacy.privacy_tests.membership_inference_attack.data_structures import AttackInputData\n",
    "from tensorflow_privacy.privacy.privacy_tests.membership_inference_attack.data_structures import AttackResultsCollection\n",
    "from tensorflow_privacy.privacy.privacy_tests.membership_inference_attack.data_structures import AttackType\n",
    "from tensorflow_privacy.privacy.privacy_tests.membership_inference_attack.data_structures import PrivacyMetric\n",
    "from tensorflow_privacy.privacy.privacy_tests.membership_inference_attack.data_structures import PrivacyReportMetadata\n",
    "from tensorflow_privacy.privacy.privacy_tests.membership_inference_attack.data_structures import SlicingSpec\n",
    "from tensorflow_privacy.privacy.privacy_tests.membership_inference_attack import privacy_report\n"
   ]
  },
  {
   "cell_type": "code",
   "execution_count": 12,
   "metadata": {},
   "outputs": [],
   "source": [
    "# #load the data\n",
    "# loss_train = np.load('loss_train.npy')\n",
    "# loss_test = np.load('loss_test.npy')\n",
    "# prob_train = np.load('prob_train.npy')\n",
    "# prob_test = np.load('prob_test.npy')\n",
    "# labels_train = np.load('labels_train.npy')\n",
    "# labels_test = np.load('labels_test.npy')\n",
    "# logits_train = np.load('logits_train.npy')\n",
    "# logits_test = np.load('logits_test.npy')\n"
   ]
  },
  {
   "cell_type": "code",
   "execution_count": 13,
   "metadata": {},
   "outputs": [
    {
     "name": "stdout",
     "output_type": "stream",
     "text": [
      "Best-performing attacks over all slices\n",
      "  THRESHOLD_ATTACK (with 60000 training and 10000 test examples) achieved an AUC of 0.49 on slice Entire dataset\n",
      "  THRESHOLD_ATTACK (with 60000 training and 10000 test examples) achieved an advantage of 0.01 on slice Entire dataset\n",
      "  THRESHOLD_ATTACK (with 60000 training and 10000 test examples) achieved a positive predictive value of 0.86 on slice Entire dataset\n",
      "\n",
      "\n",
      "Best-performing attacks over all slices\n",
      "  LOGISTIC_REGRESSION (with 60000 training and 10000 test examples) achieved an AUC of 0.52 on slice Entire dataset\n",
      "  LOGISTIC_REGRESSION (with 60000 training and 10000 test examples) achieved an advantage of 0.08 on slice Entire dataset\n",
      "  LOGISTIC_REGRESSION (with 60000 training and 10000 test examples) achieved a positive predictive value of 0.98 on slice Entire dataset\n",
      "\n",
      "\n",
      "Best-performing attacks over all slices\n",
      "  MULTI_LAYERED_PERCEPTRON (with 60000 training and 10000 test examples) achieved an AUC of 0.71 on slice Entire dataset\n",
      "  MULTI_LAYERED_PERCEPTRON (with 60000 training and 10000 test examples) achieved an advantage of 0.41 on slice Entire dataset\n",
      "  MULTI_LAYERED_PERCEPTRON (with 60000 training and 10000 test examples) achieved a positive predictive value of 0.98 on slice Entire dataset\n",
      "\n",
      "\n",
      "Best-performing attacks over all slices\n",
      "  K_NEAREST_NEIGHBORS (with 60000 training and 10000 test examples) achieved an AUC of 0.50 on slice Entire dataset\n",
      "  K_NEAREST_NEIGHBORS (with 60000 training and 10000 test examples) achieved an advantage of 0.00 on slice Entire dataset\n",
      "  K_NEAREST_NEIGHBORS (with 60000 training and 10000 test examples) achieved a positive predictive value of 0.86 on slice Entire dataset\n"
     ]
    }
   ],
   "source": [
    "from tensorflow_privacy.privacy.privacy_tests.membership_inference_attack import membership_inference_attack as mia\n",
    "from tensorflow_privacy.privacy.privacy_tests.membership_inference_attack.data_structures import AttackInputData\n",
    "\n",
    "\n",
    "\n",
    "attacks_result = mia.run_attacks(\n",
    "    AttackInputData(\n",
    "        loss_train = loss_train,\n",
    "        loss_test = loss_test),\n",
    "        attack_types=(\n",
    "                        AttackType.THRESHOLD_ATTACK,\n",
    "                    #   AttackType.LOGISTIC_REGRESSION,\n",
    "                      ),\n",
    "        )\n",
    "\n",
    "print(attacks_result.summary())\n",
    "\n",
    "\n",
    "print('\\n')\n",
    "attacks_result = mia.run_attacks(\n",
    "    AttackInputData(\n",
    "        loss_train = loss_train,\n",
    "        loss_test = loss_test),\n",
    "        attack_types=(\n",
    "                      # AttackType.THRESHOLD_ATTACK,\n",
    "                      AttackType.LOGISTIC_REGRESSION,\n",
    "                    #   AttackType.MULTI_LAYERED_PERCEPTRON,\n",
    "                    #   AttackType.RANDOM_FOREST,\n",
    "                    #   AttackType.K_NEAREST_NEIGHBORS,\n",
    "                      ),\n",
    "        )\n",
    "\n",
    "print(attacks_result.summary())\n",
    "\n",
    "print('\\n')\n",
    "attacks_result = mia.run_attacks(\n",
    "    AttackInputData(\n",
    "        loss_train = loss_train,\n",
    "        loss_test = loss_test),\n",
    "        attack_types=(\n",
    "                      # AttackType.THRESHOLD_ATTACK,\n",
    "                    #   AttackType.LOGISTIC_REGRESSION,\n",
    "                      AttackType.MULTI_LAYERED_PERCEPTRON,\n",
    "                    #   AttackType.RANDOM_FOREST,\n",
    "                    #   AttackType.K_NEAREST_NEIGHBORS,\n",
    "                      ),\n",
    "        )\n",
    "\n",
    "print(attacks_result.summary())\n",
    "\n",
    "\n",
    "# print('\\n')\n",
    "# attacks_result = mia.run_attacks(\n",
    "#     AttackInputData(\n",
    "#         loss_train = loss_train,\n",
    "#         loss_test = loss_test),\n",
    "#         attack_types=(\n",
    "#                       # AttackType.THRESHOLD_ATTACK,\n",
    "#                     #   AttackType.LOGISTIC_REGRESSION,\n",
    "#                     #   AttackType.MULTI_LAYERED_PERCEPTRON,\n",
    "#                       AttackType.RANDOM_FOREST,\n",
    "#                     #   AttackType.K_NEAREST_NEIGHBORS,\n",
    "#                       ),\n",
    "#         )\n",
    "\n",
    "# print(attacks_result.summary())\n",
    "\n",
    "print('\\n')\n",
    "attacks_result = mia.run_attacks(\n",
    "    AttackInputData(\n",
    "        loss_train = loss_train,\n",
    "        loss_test = loss_test),\n",
    "        attack_types=(\n",
    "                      # AttackType.THRESHOLD_ATTACK,\n",
    "                    #   AttackType.LOGISTIC_REGRESSION,\n",
    "                    #   AttackType.MULTI_LAYERED_PERCEPTRON,\n",
    "                    #   AttackType.RANDOM_FOREST,\n",
    "                      AttackType.K_NEAREST_NEIGHBORS,\n",
    "                      ),\n",
    "        )\n",
    "\n",
    "print(attacks_result.summary())"
   ]
  },
  {
   "cell_type": "code",
   "execution_count": 14,
   "metadata": {},
   "outputs": [
    {
     "name": "stdout",
     "output_type": "stream",
     "text": [
      "Best-performing attacks over all slices\n",
      "  MULTI_LAYERED_PERCEPTRON (with 5918 training and 958 test examples) achieved an AUC of 0.58 on slice CLASS=6\n",
      "  LOGISTIC_REGRESSION (with 11103 training and 1859 test examples) achieved an advantage of 0.24 on slice CORRECTLY_CLASSIFIED=False\n",
      "  MULTI_LAYERED_PERCEPTRON (with 5421 training and 892 test examples) achieved a positive predictive value of 1.00 on slice CLASS=5\n",
      "\n",
      "Best-performing attacks over slice: \"Entire dataset\"\n",
      "  MULTI_LAYERED_PERCEPTRON (with 60000 training and 10000 test examples) achieved an AUC of 0.55\n",
      "  LOGISTIC_REGRESSION (with 60000 training and 10000 test examples) achieved an advantage of 0.21\n",
      "  MULTI_LAYERED_PERCEPTRON (with 60000 training and 10000 test examples) achieved a positive predictive value of 0.97\n",
      "\n",
      "Best-performing attacks over slice: \"CLASS=0\"\n",
      "  MULTI_LAYERED_PERCEPTRON (with 5923 training and 980 test examples) achieved an AUC of 0.55\n",
      "  K_NEAREST_NEIGHBORS (with 5923 training and 980 test examples) achieved an advantage of 0.13\n",
      "  THRESHOLD_ATTACK (with 5923 training and 980 test examples) achieved a positive predictive value of 0.97\n",
      "\n",
      "Best-performing attacks over slice: \"CLASS=1\"\n",
      "  MULTI_LAYERED_PERCEPTRON (with 6742 training and 1135 test examples) achieved an AUC of 0.52\n",
      "  LOGISTIC_REGRESSION (with 6742 training and 1135 test examples) achieved an advantage of 0.18\n",
      "  MULTI_LAYERED_PERCEPTRON (with 6742 training and 1135 test examples) achieved a positive predictive value of 0.97\n",
      "\n",
      "Best-performing attacks over slice: \"CLASS=2\"\n",
      "  LOGISTIC_REGRESSION (with 5958 training and 1032 test examples) achieved an AUC of 0.54\n",
      "  LOGISTIC_REGRESSION (with 5958 training and 1032 test examples) achieved an advantage of 0.08\n",
      "  LOGISTIC_REGRESSION (with 5958 training and 1032 test examples) achieved a positive predictive value of 0.99\n",
      "\n",
      "Best-performing attacks over slice: \"CLASS=3\"\n",
      "  MULTI_LAYERED_PERCEPTRON (with 6131 training and 1010 test examples) achieved an AUC of 0.55\n",
      "  LOGISTIC_REGRESSION (with 6131 training and 1010 test examples) achieved an advantage of 0.19\n",
      "  LOGISTIC_REGRESSION (with 6131 training and 1010 test examples) achieved a positive predictive value of 0.99\n",
      "\n",
      "Best-performing attacks over slice: \"CLASS=4\"\n",
      "  K_NEAREST_NEIGHBORS (with 5842 training and 982 test examples) achieved an AUC of 0.56\n",
      "  K_NEAREST_NEIGHBORS (with 5842 training and 982 test examples) achieved an advantage of 0.18\n",
      "  LOGISTIC_REGRESSION (with 5842 training and 982 test examples) achieved a positive predictive value of 1.00\n",
      "\n",
      "Best-performing attacks over slice: \"CLASS=5\"\n",
      "  LOGISTIC_REGRESSION (with 5421 training and 892 test examples) achieved an AUC of 0.54\n",
      "  K_NEAREST_NEIGHBORS (with 5421 training and 892 test examples) achieved an advantage of 0.12\n",
      "  MULTI_LAYERED_PERCEPTRON (with 5421 training and 892 test examples) achieved a positive predictive value of 1.00\n",
      "\n",
      "Best-performing attacks over slice: \"CLASS=6\"\n",
      "  MULTI_LAYERED_PERCEPTRON (with 5918 training and 958 test examples) achieved an AUC of 0.58\n",
      "  K_NEAREST_NEIGHBORS (with 5918 training and 958 test examples) achieved an advantage of 0.18\n",
      "  THRESHOLD_ATTACK (with 5918 training and 958 test examples) achieved a positive predictive value of 0.97\n",
      "\n",
      "Best-performing attacks over slice: \"CLASS=7\"\n",
      "  MULTI_LAYERED_PERCEPTRON (with 6265 training and 1028 test examples) achieved an AUC of 0.56\n",
      "  K_NEAREST_NEIGHBORS (with 6265 training and 1028 test examples) achieved an advantage of 0.16\n",
      "  MULTI_LAYERED_PERCEPTRON (with 6265 training and 1028 test examples) achieved a positive predictive value of 0.95\n",
      "\n",
      "Best-performing attacks over slice: \"CLASS=8\"\n",
      "  MULTI_LAYERED_PERCEPTRON (with 5851 training and 974 test examples) achieved an AUC of 0.56\n",
      "  MULTI_LAYERED_PERCEPTRON (with 5851 training and 974 test examples) achieved an advantage of 0.10\n",
      "  LOGISTIC_REGRESSION (with 5851 training and 974 test examples) achieved a positive predictive value of 1.00\n",
      "\n",
      "Best-performing attacks over slice: \"CLASS=9\"\n",
      "  LOGISTIC_REGRESSION (with 5949 training and 1009 test examples) achieved an AUC of 0.55\n",
      "  K_NEAREST_NEIGHBORS (with 5949 training and 1009 test examples) achieved an advantage of 0.14\n",
      "  LOGISTIC_REGRESSION (with 5949 training and 1009 test examples) achieved a positive predictive value of 0.95\n",
      "\n",
      "Best-performing attacks over slice: \"CORRECTLY_CLASSIFIED=True\"\n",
      "  MULTI_LAYERED_PERCEPTRON (with 48897 training and 8141 test examples) achieved an AUC of 0.53\n",
      "  LOGISTIC_REGRESSION (with 48897 training and 8141 test examples) achieved an advantage of 0.19\n",
      "  LOGISTIC_REGRESSION (with 48897 training and 8141 test examples) achieved a positive predictive value of 0.89\n",
      "\n",
      "Best-performing attacks over slice: \"CORRECTLY_CLASSIFIED=False\"\n",
      "  LOGISTIC_REGRESSION (with 11103 training and 1859 test examples) achieved an AUC of 0.55\n",
      "  LOGISTIC_REGRESSION (with 11103 training and 1859 test examples) achieved an advantage of 0.24\n",
      "  THRESHOLD_ATTACK (with 11103 training and 1859 test examples) achieved a positive predictive value of 0.91\n"
     ]
    },
    {
     "data": {
      "image/png": "[encoded data removed]",
      "text/plain": [
       "<Figure size 640x480 with 1 Axes>"
      ]
     },
     "metadata": {},
     "output_type": "display_data"
    }
   ],
   "source": [
    "from tensorflow_privacy.privacy.privacy_tests.membership_inference_attack.data_structures import AttackInputData\n",
    "from tensorflow_privacy.privacy.privacy_tests.membership_inference_attack.data_structures import SlicingSpec\n",
    "from tensorflow_privacy.privacy.privacy_tests.membership_inference_attack.data_structures import AttackType\n",
    "\n",
    "import tensorflow_privacy.privacy.privacy_tests.membership_inference_attack.plotting as plotting\n",
    "\n",
    "\n",
    "input = AttackInputData(\n",
    "  logits_train = logits_train,\n",
    "  logits_test = logits_test,\n",
    "  loss_train = loss_train,\n",
    "  loss_test = loss_test,\n",
    "  labels_train = labels_train,\n",
    "  labels_test = labels_test\n",
    ")\n",
    "\n",
    "# Run several attacks for different data slices\n",
    "attacks_result = mia.run_attacks(input,\n",
    "                                 SlicingSpec(\n",
    "                                     entire_dataset = True,\n",
    "                                     by_class = True,\n",
    "                                     by_classification_correctness = True\n",
    "                                 ),\n",
    "                                 attack_types = [\n",
    "                                     AttackType.THRESHOLD_ATTACK,\n",
    "                                     AttackType.LOGISTIC_REGRESSION,\n",
    "                                     AttackType.MULTI_LAYERED_PERCEPTRON,\n",
    "                                        # # AttackType.RANDOM_FOREST,\n",
    "                                    AttackType.K_NEAREST_NEIGHBORS,\n",
    "                                     ])\n",
    "\n",
    "# Plot the ROC curve of the best classifier\n",
    "fig = plotting.plot_roc_curve(\n",
    "    attacks_result.get_result_with_max_auc().roc_curve)\n",
    "\n",
    "# Print a user-friendly summary of the attacks\n",
    "print(attacks_result.summary(by_slices = True))"
   ]
  },
  {
   "cell_type": "code",
   "execution_count": 15,
   "metadata": {},
   "outputs": [],
   "source": [
    "# import onnx\n",
    "\n",
    "# #save the model as onnx\n",
    "# input=torch.randn(1, 1, 28, 28)\n",
    "# torch.onnx.export(target_model, input, \"some_model.onnx\", verbose=True)"
   ]
  },
  {
   "cell_type": "code",
   "execution_count": 16,
   "metadata": {},
   "outputs": [
    {
     "name": "stderr",
     "output_type": "stream",
     "text": [
      "/home/junaid/anaconda3/envs/torch_env/lib/python3.10/site-packages/tqdm/auto.py:22: TqdmWarning: IProgress not found. Please update jupyter and ipywidgets. See https://ipywidgets.readthedocs.io/en/stable/user_install.html\n",
      "  from .autonotebook import tqdm as notebook_tqdm\n",
      "/home/junaid/anaconda3/envs/torch_env/lib/python3.10/site-packages/keras/backend.py:5561: UserWarning: \"`categorical_crossentropy` received `from_logits=True`, but the `output` argument was produced by a Softmax activation and thus does not represent logits. Was this intended?\n",
      "  output, from_logits = _get_logits(\n"
     ]
    },
    {
     "name": "stdout",
     "output_type": "stream",
     "text": [
      "32/32 [==============================] - 0s 1ms/step\n",
      "32/32 [==============================] - 0s 1ms/step\n",
      "Target model is #0\n"
     ]
    },
    {
     "name": "stderr",
     "output_type": "stream",
     "text": [
      "/home/junaid/anaconda3/envs/torch_env/lib/python3.10/site-packages/numpy/lib/nanfunctions.py:1216: RuntimeWarning: Mean of empty slice\n",
      "  return np.nanmean(a, axis, out=out, keepdims=keepdims)\n"
     ]
    },
    {
     "name": "stdout",
     "output_type": "stream",
     "text": [
      "Advanced MIA attack with Gaussian: auc = 0.5287 adv = 0.0634\n"
     ]
    },
    {
     "name": "stderr",
     "output_type": "stream",
     "text": [
      "/home/junaid/anaconda3/envs/torch_env/lib/python3.10/site-packages/numpy/lib/nanfunctions.py:1216: RuntimeWarning: Mean of empty slice\n",
      "  return np.nanmean(a, axis, out=out, keepdims=keepdims)\n"
     ]
    },
    {
     "name": "stdout",
     "output_type": "stream",
     "text": [
      "Advanced MIA attack with offset: auc = 0.5051 adv = 0.0355\n",
      "Baseline MIA attack: auc = 0.5452 adv = 0.1085\n",
      "Target model is #1\n"
     ]
    },
    {
     "name": "stderr",
     "output_type": "stream",
     "text": [
      "/home/junaid/anaconda3/envs/torch_env/lib/python3.10/site-packages/numpy/lib/nanfunctions.py:1216: RuntimeWarning: Mean of empty slice\n",
      "  return np.nanmean(a, axis, out=out, keepdims=keepdims)\n"
     ]
    },
    {
     "name": "stdout",
     "output_type": "stream",
     "text": [
      "Advanced MIA attack with Gaussian: auc = 0.5632 adv = 0.1685\n"
     ]
    },
    {
     "name": "stderr",
     "output_type": "stream",
     "text": [
      "/home/junaid/anaconda3/envs/torch_env/lib/python3.10/site-packages/numpy/lib/nanfunctions.py:1216: RuntimeWarning: Mean of empty slice\n",
      "  return np.nanmean(a, axis, out=out, keepdims=keepdims)\n"
     ]
    },
    {
     "name": "stdout",
     "output_type": "stream",
     "text": [
      "Advanced MIA attack with offset: auc = 0.4698 adv = 0.1125\n",
      "Baseline MIA attack: auc = 0.4068 adv = 0.2396\n",
      "Target model is #2\n"
     ]
    },
    {
     "name": "stderr",
     "output_type": "stream",
     "text": [
      "/home/junaid/anaconda3/envs/torch_env/lib/python3.10/site-packages/numpy/lib/nanfunctions.py:1216: RuntimeWarning: Mean of empty slice\n",
      "  return np.nanmean(a, axis, out=out, keepdims=keepdims)\n"
     ]
    },
    {
     "name": "stdout",
     "output_type": "stream",
     "text": [
      "Advanced MIA attack with Gaussian: auc = 0.5602 adv = 0.1547\n"
     ]
    },
    {
     "name": "stderr",
     "output_type": "stream",
     "text": [
      "/home/junaid/anaconda3/envs/torch_env/lib/python3.10/site-packages/numpy/lib/nanfunctions.py:1216: RuntimeWarning: Mean of empty slice\n",
      "  return np.nanmean(a, axis, out=out, keepdims=keepdims)\n"
     ]
    },
    {
     "name": "stdout",
     "output_type": "stream",
     "text": [
      "Advanced MIA attack with offset: auc = 0.4490 adv = 0.1098\n",
      "Baseline MIA attack: auc = 0.4002 adv = 0.2643\n"
     ]
    },
    {
     "data": {
      "text/plain": [
       "<matplotlib.legend.Legend at 0x7f4f881b5ab0>"
      ]
     },
     "execution_count": 16,
     "metadata": {},
     "output_type": "execute_result"
    },
    {
     "data": {
      "image/png": "[encoded data removed]",
      "text/plain": [
       "<Figure size 500x500 with 1 Axes>"
      ]
     },
     "metadata": {},
     "output_type": "display_data"
    }
   ],
   "source": [
    "import numpy as np\n",
    "from typing import Tuple\n",
    "from scipy import special\n",
    "from sklearn import metrics\n",
    "\n",
    "import tensorflow as tf\n",
    "\n",
    "import tensorflow_datasets as tfds\n",
    "\n",
    "# Set verbosity.\n",
    "tf.compat.v1.logging.set_verbosity(tf.compat.v1.logging.ERROR)\n",
    "from sklearn.exceptions import ConvergenceWarning\n",
    "\n",
    "import warnings\n",
    "warnings.simplefilter(action=\"ignore\", category=ConvergenceWarning)\n",
    "warnings.simplefilter(action=\"ignore\", category=FutureWarning)\n",
    "import functools\n",
    "import matplotlib.pyplot as plt\n",
    "import tensorflow_privacy\n",
    "import gc\n",
    "from tensorflow_privacy.privacy.privacy_tests.membership_inference_attack import membership_inference_attack as mia\n",
    "from tensorflow_privacy.privacy.privacy_tests.membership_inference_attack.data_structures import AttackInputData\n",
    "from tensorflow_privacy.privacy.privacy_tests.membership_inference_attack.data_structures import AttackResultsCollection\n",
    "from tensorflow_privacy.privacy.privacy_tests.membership_inference_attack.data_structures import AttackType\n",
    "from tensorflow_privacy.privacy.privacy_tests.membership_inference_attack.data_structures import PrivacyMetric\n",
    "from tensorflow_privacy.privacy.privacy_tests.membership_inference_attack.data_structures import PrivacyReportMetadata\n",
    "from tensorflow_privacy.privacy.privacy_tests.membership_inference_attack.data_structures import SlicingSpec\n",
    "from tensorflow_privacy.privacy.privacy_tests.membership_inference_attack import privacy_report\n",
    "from tensorflow_privacy.privacy.privacy_tests import utils\n",
    "from tensorflow_privacy.privacy.privacy_tests.membership_inference_attack import advanced_mia as amia\n",
    "from tensorflow_privacy.privacy.privacy_tests.membership_inference_attack import membership_inference_attack as mia\n",
    "from tensorflow_privacy.privacy.privacy_tests.membership_inference_attack import plotting as mia_plotting\n",
    "from tensorflow_privacy.privacy.privacy_tests.membership_inference_attack.data_structures import AttackInputData\n",
    "from skorch import NeuralNetClassifier\n",
    "\n",
    "\n",
    "\n",
    "\n",
    "lr=1e-3\n",
    "num_shadows=2\n",
    "\n",
    "plt.set_loglevel (level = 'warning')\n",
    "def plot_curve_with_area(x, y, xlabel, ylabel, ax, label, title=None):\n",
    "  \n",
    "  ax.plot([0, 1], [0, 1], 'k-', lw=1.0)\n",
    "  ax.plot(x, y, lw=2, label=label)\n",
    "  ax.set(xlabel=xlabel, ylabel=ylabel)\n",
    "  ax.set(aspect=1, xscale='log', yscale='log')\n",
    "  ax.title.set_text(title)\n",
    "  \n",
    "\n",
    "def get_stat_and_loss_aug(model,\n",
    "                          x,\n",
    "                          y,\n",
    "                          torch_mod=False,\n",
    "                          sample_weight= None,):\n",
    "\n",
    "  \n",
    "  if torch_mod:\n",
    "    losses, stat = [], []\n",
    "    # Extract the third column into a new variable\n",
    "    col3 = x[:, :, :, 2]\n",
    "\n",
    "    # Reverse the ordering of the elements along the row axis\n",
    "    col3_rev = col3[::-1, :]\n",
    "\n",
    "    # Create a new array with the reversed third column\n",
    "    x_rev = np.empty_like(x)\n",
    "    x_rev[:, :, :, :2] = x[:, :, :, :2] # copy the first two columns\n",
    "    x_rev[:, :, :, 2] = col3_rev       # use the reversed third column\n",
    "    x_rev[:, :, :, 3:] = x[:, :, :, 3:] # copy the remaining columns\n",
    "\n",
    "    for data in [x]:\n",
    "            #check if x and y are tensors, if not convert to tensors\n",
    "        if not isinstance(data, torch.Tensor):\n",
    "            data=torch.from_numpy(data)\n",
    "\n",
    "        prob = amia.convert_logit_to_prob(\n",
    "            model(data).detach().numpy())\n",
    "        \n",
    "\n",
    "        losses.append(utils.log_loss(y, prob, sample_weight=None))\n",
    "\n",
    "        stat.append(\n",
    "            amia.calculate_statistic(\n",
    "                prob, y, sample_weight=None))\n",
    "        \n",
    "\n",
    "    return np.vstack(stat).transpose(1, 0), np.vstack(losses).transpose(1, 0)\n",
    "  \n",
    "  \n",
    "  else:\n",
    "    losses, stat = [], []\n",
    "    # Extract the third column into a new variable\n",
    "    col3 = x[:, :, :, 2]\n",
    "\n",
    "    # Reverse the ordering of the elements along the row axis\n",
    "    col3_rev = col3[::-1, :]\n",
    "\n",
    "    # Create a new array with the reversed third column\n",
    "    x_rev = np.empty_like(x)\n",
    "    x_rev[:, :, :, :2] = x[:, :, :, :2] # copy the first two columns\n",
    "    x_rev[:, :, :, 2] = col3_rev       # use the reversed third column\n",
    "    x_rev[:, :, :, 3:] = x[:, :, :, 3:] # copy the remaining columns\n",
    "\n",
    "    for data in [x]:\n",
    "        \n",
    "        prob = amia.convert_logit_to_prob(\n",
    "                model.predict(data))\n",
    "      \n",
    "        losses.append(utils.log_loss(y, prob, sample_weight=sample_weight))\n",
    "        stat.append(\n",
    "                amia.calculate_statistic(\n",
    "                    prob, y, sample_weight=sample_weight))\n",
    "        return np.vstack(stat).transpose(1, 0), np.vstack(losses).transpose(1, 0)\n",
    "    \n",
    "\n",
    "\n",
    "\n",
    "\n",
    "in_indices = [] \n",
    "stat=[]\n",
    "losses=[]\n",
    "\n",
    "for i in range(num_shadows+1):\n",
    "    # Generate a binary array indicating which example to include for training\n",
    "    in_indices.append(np.random.binomial(1, 0.5, len(X)).astype(bool))\n",
    "\n",
    "    # Train the shadow models\n",
    "    if i==0:\n",
    "        yp=np.argmax(y, axis=1).astype(int)\n",
    "        yp=yp.reshape(-1,1)\n",
    "        s,l=get_stat_and_loss_aug(target_model,X,yp,torch_mod=True)\n",
    "        stat.append(s)\n",
    "        losses.append(l)\n",
    "\n",
    "\n",
    "    else:\n",
    "        shadow_model = tf.keras.Sequential([\n",
    "            tf.keras.layers.Flatten(input_shape=(1,28, 28)),\n",
    "            tf.keras.layers.Dense(128, activation='relu'),\n",
    "            tf.keras.layers.Dense(10, activation='softmax')\n",
    "        ])\n",
    "\n",
    "        # shadow_model=tf.keras.clone_model(model)\n",
    "\n",
    "        shadow_model.compile(\n",
    "        loss=tf.keras.losses.CategoricalCrossentropy(from_logits=True),\n",
    "        optimizer=tf.keras.optimizers.Adam(learning_rate=lr),\n",
    "        metrics=['accuracy'])\n",
    "\n",
    "        shadow_model.fit(X[in_indices[-1]], y[in_indices[-1]], epochs=20, batch_size=32, verbose=0)\n",
    "        yp=np.argmax(y, axis=1).astype(int)\n",
    "        yp=yp.reshape(-1,1)\n",
    "        s,l=get_stat_and_loss_aug(shadow_model, X,yp,torch_mod=False)\n",
    "        stat.append(s)\n",
    "        losses.append(l)\n",
    "        \n",
    "    # Avoid OOM\n",
    "    tf.keras.backend.clear_session()\n",
    "    gc.collect()\n",
    "\n",
    "\n",
    "\n",
    "for idx in range(num_shadows+1):\n",
    "  print(f'Target model is #{idx}')\n",
    "  stat_target = stat[idx]  # statistics of target model, shape (n, k)\n",
    "  in_indices_target = in_indices[idx]  # ground-truth membership, shape (n,)\n",
    "\n",
    "  stat_shadow = np.array(stat[:idx] + stat[idx + 1:])\n",
    "  in_indices_shadow = np.array(in_indices[:idx] + in_indices[idx + 1:])\n",
    "  stat_in = [stat_shadow[:, j][in_indices_shadow[:, j]] for j in range(len(X))]\n",
    "  stat_out = [stat_shadow[:, j][~in_indices_shadow[:, j]] for j in range(len(X))]\n",
    "\n",
    "  # Compute the scores and use them for MIA\n",
    "  scores = amia.compute_score_lira(\n",
    "      stat_target, stat_in, stat_out, fix_variance=True)\n",
    "  attack_input = AttackInputData(\n",
    "      loss_train=scores[in_indices_target],\n",
    "      loss_test=scores[~in_indices_target],\n",
    "      sample_weight_train=None,\n",
    "      sample_weight_test=None)\n",
    "  result_lira = mia.run_attacks(attack_input).single_attack_results[0]\n",
    "  print('Advanced MIA attack with Gaussian:',\n",
    "        f'auc = {result_lira.get_auc():.4f}',\n",
    "        f'adv = {result_lira.get_attacker_advantage():.4f}')\n",
    "\n",
    "  scores = -amia.compute_score_offset(stat_target, stat_in, stat_out)\n",
    "  attack_input = AttackInputData(\n",
    "      loss_train=scores[in_indices_target],\n",
    "      loss_test=scores[~in_indices_target],\n",
    "      sample_weight_train=None,\n",
    "      sample_weight_test=None)\n",
    "  result_offset = mia.run_attacks(attack_input).single_attack_results[0]\n",
    "  print('Advanced MIA attack with offset:',\n",
    "        f'auc = {result_offset.get_auc():.4f}',\n",
    "        f'adv = {result_offset.get_attacker_advantage():.4f}')\n",
    "\n",
    "  # Compare with the baseline MIA using the loss of the target model\n",
    "  loss_target = losses[idx][:, 0]\n",
    "  attack_input = AttackInputData(\n",
    "      loss_train=loss_target[in_indices_target],\n",
    "      loss_test=loss_target[~in_indices_target],\n",
    "      sample_weight_train=None,\n",
    "      sample_weight_test=None)\n",
    "  result_baseline = mia.run_attacks(attack_input).single_attack_results[0]\n",
    "  print('Baseline MIA attack:', f'auc = {result_baseline.get_auc():.4f}',\n",
    "        f'adv = {result_baseline.get_attacker_advantage():.4f}')\n",
    "\n",
    "# Plot and save the AUC curves for the three methods.\n",
    "_, ax = plt.subplots(1, 1, figsize=(5, 5))\n",
    "for res, title in zip([result_baseline, result_lira, result_offset],\n",
    "                      ['baseline', 'LiRA', 'offset']):\n",
    "  label = f'{title} auc={res.get_auc():.4f}'\n",
    "  mia_plotting.plot_roc_curve(\n",
    "      res.roc_curve,\n",
    "      functools.partial(plot_curve_with_area, ax=ax, label=label))\n",
    "plt.legend()"
   ]
  },
  {
   "cell_type": "code",
   "execution_count": null,
   "metadata": {},
   "outputs": [],
   "source": []
  }
 ],
 "metadata": {
  "kernelspec": {
   "display_name": "subbase",
   "language": "python",
   "name": "python3"
  },
  "language_info": {
   "codemirror_mode": {
    "name": "ipython",
    "version": 3
   },
   "file_extension": ".py",
   "mimetype": "text/x-python",
   "name": "python",
   "nbconvert_exporter": "python",
   "pygments_lexer": "ipython3",
   "version": "3.10.0"
  },
  "orig_nbformat": 4
 },
 "nbformat": 4,
 "nbformat_minor": 2
}
